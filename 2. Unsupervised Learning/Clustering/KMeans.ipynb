{
  "nbformat": 4,
  "nbformat_minor": 0,
  "metadata": {
    "colab": {
      "provenance": []
    },
    "kernelspec": {
      "name": "python3",
      "display_name": "Python 3"
    },
    "language_info": {
      "name": "python"
    }
  },
  "cells": [
    {
      "cell_type": "code",
      "execution_count": null,
      "metadata": {
        "id": "y4MADHa22X76"
      },
      "outputs": [],
      "source": [
        "import pandas as pd\n",
        "df=pd.read_csv('irisData.csv')\n",
        "df.drop('Id',axis=1,inplace=True)"
      ]
    },
    {
      "cell_type": "markdown",
      "source": [
        "#**DROPPING TARGET TO APPLY UNSUPERVISED LEARNING**"
      ],
      "metadata": {
        "id": "_hzPyJXCOKFE"
      }
    },
    {
      "cell_type": "code",
      "source": [
        "df.drop('Species',axis=1,inplace=True)\n",
        "df"
      ],
      "metadata": {
        "id": "-_dObbmbOQlB",
        "colab": {
          "base_uri": "https://localhost:8080/",
          "height": 424
        },
        "outputId": "23495089-fd90-496f-ff24-195d596674c7"
      },
      "execution_count": null,
      "outputs": [
        {
          "output_type": "execute_result",
          "data": {
            "text/plain": [
              "     SepalLengthCm  SepalWidthCm  PetalLengthCm  PetalWidthCm\n",
              "0              5.1           3.5            1.4           0.2\n",
              "1              4.9           3.0            1.4           0.2\n",
              "2              4.7           3.2            1.3           0.2\n",
              "3              4.6           3.1            1.5           0.2\n",
              "4              5.0           3.6            1.4           0.2\n",
              "..             ...           ...            ...           ...\n",
              "145            6.7           3.0            5.2           2.3\n",
              "146            6.3           2.5            5.0           1.9\n",
              "147            6.5           3.0            5.2           2.0\n",
              "148            6.2           3.4            5.4           2.3\n",
              "149            5.9           3.0            5.1           1.8\n",
              "\n",
              "[150 rows x 4 columns]"
            ],
            "text/html": [
              "\n",
              "  <div id=\"df-a44bae62-e99e-4ebe-9e5a-e64826931789\">\n",
              "    <div class=\"colab-df-container\">\n",
              "      <div>\n",
              "<style scoped>\n",
              "    .dataframe tbody tr th:only-of-type {\n",
              "        vertical-align: middle;\n",
              "    }\n",
              "\n",
              "    .dataframe tbody tr th {\n",
              "        vertical-align: top;\n",
              "    }\n",
              "\n",
              "    .dataframe thead th {\n",
              "        text-align: right;\n",
              "    }\n",
              "</style>\n",
              "<table border=\"1\" class=\"dataframe\">\n",
              "  <thead>\n",
              "    <tr style=\"text-align: right;\">\n",
              "      <th></th>\n",
              "      <th>SepalLengthCm</th>\n",
              "      <th>SepalWidthCm</th>\n",
              "      <th>PetalLengthCm</th>\n",
              "      <th>PetalWidthCm</th>\n",
              "    </tr>\n",
              "  </thead>\n",
              "  <tbody>\n",
              "    <tr>\n",
              "      <th>0</th>\n",
              "      <td>5.1</td>\n",
              "      <td>3.5</td>\n",
              "      <td>1.4</td>\n",
              "      <td>0.2</td>\n",
              "    </tr>\n",
              "    <tr>\n",
              "      <th>1</th>\n",
              "      <td>4.9</td>\n",
              "      <td>3.0</td>\n",
              "      <td>1.4</td>\n",
              "      <td>0.2</td>\n",
              "    </tr>\n",
              "    <tr>\n",
              "      <th>2</th>\n",
              "      <td>4.7</td>\n",
              "      <td>3.2</td>\n",
              "      <td>1.3</td>\n",
              "      <td>0.2</td>\n",
              "    </tr>\n",
              "    <tr>\n",
              "      <th>3</th>\n",
              "      <td>4.6</td>\n",
              "      <td>3.1</td>\n",
              "      <td>1.5</td>\n",
              "      <td>0.2</td>\n",
              "    </tr>\n",
              "    <tr>\n",
              "      <th>4</th>\n",
              "      <td>5.0</td>\n",
              "      <td>3.6</td>\n",
              "      <td>1.4</td>\n",
              "      <td>0.2</td>\n",
              "    </tr>\n",
              "    <tr>\n",
              "      <th>...</th>\n",
              "      <td>...</td>\n",
              "      <td>...</td>\n",
              "      <td>...</td>\n",
              "      <td>...</td>\n",
              "    </tr>\n",
              "    <tr>\n",
              "      <th>145</th>\n",
              "      <td>6.7</td>\n",
              "      <td>3.0</td>\n",
              "      <td>5.2</td>\n",
              "      <td>2.3</td>\n",
              "    </tr>\n",
              "    <tr>\n",
              "      <th>146</th>\n",
              "      <td>6.3</td>\n",
              "      <td>2.5</td>\n",
              "      <td>5.0</td>\n",
              "      <td>1.9</td>\n",
              "    </tr>\n",
              "    <tr>\n",
              "      <th>147</th>\n",
              "      <td>6.5</td>\n",
              "      <td>3.0</td>\n",
              "      <td>5.2</td>\n",
              "      <td>2.0</td>\n",
              "    </tr>\n",
              "    <tr>\n",
              "      <th>148</th>\n",
              "      <td>6.2</td>\n",
              "      <td>3.4</td>\n",
              "      <td>5.4</td>\n",
              "      <td>2.3</td>\n",
              "    </tr>\n",
              "    <tr>\n",
              "      <th>149</th>\n",
              "      <td>5.9</td>\n",
              "      <td>3.0</td>\n",
              "      <td>5.1</td>\n",
              "      <td>1.8</td>\n",
              "    </tr>\n",
              "  </tbody>\n",
              "</table>\n",
              "<p>150 rows × 4 columns</p>\n",
              "</div>\n",
              "      <button class=\"colab-df-convert\" onclick=\"convertToInteractive('df-a44bae62-e99e-4ebe-9e5a-e64826931789')\"\n",
              "              title=\"Convert this dataframe to an interactive table.\"\n",
              "              style=\"display:none;\">\n",
              "        \n",
              "  <svg xmlns=\"http://www.w3.org/2000/svg\" height=\"24px\"viewBox=\"0 0 24 24\"\n",
              "       width=\"24px\">\n",
              "    <path d=\"M0 0h24v24H0V0z\" fill=\"none\"/>\n",
              "    <path d=\"M18.56 5.44l.94 2.06.94-2.06 2.06-.94-2.06-.94-.94-2.06-.94 2.06-2.06.94zm-11 1L8.5 8.5l.94-2.06 2.06-.94-2.06-.94L8.5 2.5l-.94 2.06-2.06.94zm10 10l.94 2.06.94-2.06 2.06-.94-2.06-.94-.94-2.06-.94 2.06-2.06.94z\"/><path d=\"M17.41 7.96l-1.37-1.37c-.4-.4-.92-.59-1.43-.59-.52 0-1.04.2-1.43.59L10.3 9.45l-7.72 7.72c-.78.78-.78 2.05 0 2.83L4 21.41c.39.39.9.59 1.41.59.51 0 1.02-.2 1.41-.59l7.78-7.78 2.81-2.81c.8-.78.8-2.07 0-2.86zM5.41 20L4 18.59l7.72-7.72 1.47 1.35L5.41 20z\"/>\n",
              "  </svg>\n",
              "      </button>\n",
              "      \n",
              "  <style>\n",
              "    .colab-df-container {\n",
              "      display:flex;\n",
              "      flex-wrap:wrap;\n",
              "      gap: 12px;\n",
              "    }\n",
              "\n",
              "    .colab-df-convert {\n",
              "      background-color: #E8F0FE;\n",
              "      border: none;\n",
              "      border-radius: 50%;\n",
              "      cursor: pointer;\n",
              "      display: none;\n",
              "      fill: #1967D2;\n",
              "      height: 32px;\n",
              "      padding: 0 0 0 0;\n",
              "      width: 32px;\n",
              "    }\n",
              "\n",
              "    .colab-df-convert:hover {\n",
              "      background-color: #E2EBFA;\n",
              "      box-shadow: 0px 1px 2px rgba(60, 64, 67, 0.3), 0px 1px 3px 1px rgba(60, 64, 67, 0.15);\n",
              "      fill: #174EA6;\n",
              "    }\n",
              "\n",
              "    [theme=dark] .colab-df-convert {\n",
              "      background-color: #3B4455;\n",
              "      fill: #D2E3FC;\n",
              "    }\n",
              "\n",
              "    [theme=dark] .colab-df-convert:hover {\n",
              "      background-color: #434B5C;\n",
              "      box-shadow: 0px 1px 3px 1px rgba(0, 0, 0, 0.15);\n",
              "      filter: drop-shadow(0px 1px 2px rgba(0, 0, 0, 0.3));\n",
              "      fill: #FFFFFF;\n",
              "    }\n",
              "  </style>\n",
              "\n",
              "      <script>\n",
              "        const buttonEl =\n",
              "          document.querySelector('#df-a44bae62-e99e-4ebe-9e5a-e64826931789 button.colab-df-convert');\n",
              "        buttonEl.style.display =\n",
              "          google.colab.kernel.accessAllowed ? 'block' : 'none';\n",
              "\n",
              "        async function convertToInteractive(key) {\n",
              "          const element = document.querySelector('#df-a44bae62-e99e-4ebe-9e5a-e64826931789');\n",
              "          const dataTable =\n",
              "            await google.colab.kernel.invokeFunction('convertToInteractive',\n",
              "                                                     [key], {});\n",
              "          if (!dataTable) return;\n",
              "\n",
              "          const docLinkHtml = 'Like what you see? Visit the ' +\n",
              "            '<a target=\"_blank\" href=https://colab.research.google.com/notebooks/data_table.ipynb>data table notebook</a>'\n",
              "            + ' to learn more about interactive tables.';\n",
              "          element.innerHTML = '';\n",
              "          dataTable['output_type'] = 'display_data';\n",
              "          await google.colab.output.renderOutput(dataTable, element);\n",
              "          const docLink = document.createElement('div');\n",
              "          docLink.innerHTML = docLinkHtml;\n",
              "          element.appendChild(docLink);\n",
              "        }\n",
              "      </script>\n",
              "    </div>\n",
              "  </div>\n",
              "  "
            ]
          },
          "metadata": {},
          "execution_count": 10
        }
      ]
    },
    {
      "cell_type": "markdown",
      "source": [
        "#**SPLIT DATASET**"
      ],
      "metadata": {
        "id": "QGlzkQKk6Cso"
      }
    },
    {
      "cell_type": "code",
      "source": [
        "from sklearn.model_selection import train_test_split\n",
        "x_train , x_test= train_test_split(df, train_size=0.7)\n"
      ],
      "metadata": {
        "id": "j-UcjoXv5vCB"
      },
      "execution_count": null,
      "outputs": []
    },
    {
      "cell_type": "code",
      "source": [
        "from sklearn.preprocessing import StandardScaler\n",
        "sc = StandardScaler()\n",
        "X_train = sc.fit_transform(x_train)\n",
        "X_test = sc.transform(x_test)\n",
        "print(X_train)\n"
      ],
      "metadata": {
        "colab": {
          "base_uri": "https://localhost:8080/"
        },
        "id": "Ty5VXwQm6SxE",
        "outputId": "2f57c002-c582-45ef-914f-508f655d71aa"
      },
      "execution_count": null,
      "outputs": [
        {
          "output_type": "stream",
          "name": "stdout",
          "text": [
            "[[-9.95048039e-01  7.96605270e-01 -1.20302968e+00 -1.03001479e+00]\n",
            " [ 5.39687072e-01  5.44666856e-01  5.37353255e-01  5.16848900e-01]\n",
            " [ 7.75800166e-01 -2.11148385e-01  8.18060179e-01  1.03247013e+00]\n",
            " [ 4.21630525e-01 -4.63086798e-01  3.12787716e-01  1.30132977e-01]\n",
            " [ 3.03573978e-01 -2.11148385e-01  6.49636025e-01  7.74659514e-01]\n",
            " [-1.68652210e-01 -1.21890204e+00 -1.36343363e-01 -2.56582945e-01]\n",
            " [-5.22821851e-01  7.96605270e-01 -1.14688829e+00 -1.28782541e+00]\n",
            " [-5.05956630e-02 -7.15025212e-01  7.61918794e-01  1.54809136e+00]\n",
            " [ 1.01191326e+00  5.44666856e-01  1.09876710e+00  1.67699667e+00]\n",
            " [ 5.39687072e-01 -7.15025212e-01  7.61918794e-01  3.87943592e-01]\n",
            " [-1.34921768e+00  2.92728442e-01 -1.37145383e+00 -1.28782541e+00]\n",
            " [ 6.74608840e-02  2.92728442e-01  5.93494640e-01  7.74659514e-01]\n",
            " [-8.76991492e-01  1.04854368e+00 -1.31531244e+00 -1.28782541e+00]\n",
            " [ 2.19247873e+00 -2.11148385e-01  1.32333264e+00  1.41918605e+00]\n",
            " [ 1.24802635e+00  2.92728442e-01  1.09876710e+00  1.41918605e+00]\n",
            " [-5.05956630e-02 -9.66963626e-01  7.61918794e-01  9.03564822e-01]\n",
            " [-1.46727423e+00  1.30048210e+00 -1.53987798e+00 -1.28782541e+00]\n",
            " [ 1.83830909e+00 -7.15025212e-01  1.32333264e+00  9.03564822e-01]\n",
            " [-4.04765304e-01 -1.47084045e+00  1.44363561e-01  1.30132977e-01]\n",
            " [ 3.03573978e-01 -7.15025212e-01  1.44363561e-01  1.30132977e-01]\n",
            " [ 1.24802635e+00  4.07900289e-02  6.49636025e-01  3.87943592e-01]\n",
            " [-1.68652210e-01  3.31598941e+00 -1.25917106e+00 -1.03001479e+00]\n",
            " [ 6.57743619e-01 -7.15025212e-01  1.04262572e+00  1.29028074e+00]\n",
            " [ 1.24802635e+00  4.07900289e-02  9.30342949e-01  1.16137544e+00]\n",
            " [-2.86708757e-01 -2.11148385e-01  4.25070485e-01  3.87943592e-01]\n",
            " [ 7.75800166e-01  2.92728442e-01  7.61918794e-01  1.03247013e+00]\n",
            " [-1.11310459e+00 -1.72277887e+00 -2.48626133e-01 -2.56582945e-01]\n",
            " [ 4.21630525e-01 -7.15025212e-01  5.93494640e-01  7.74659514e-01]\n",
            " [ 1.72025254e+00 -4.63086798e-01  1.43561541e+00  7.74659514e-01]\n",
            " [-1.11310459e+00  4.07900289e-02 -1.25917106e+00 -1.41673071e+00]\n",
            " [ 6.57743619e-01  4.07900289e-02  9.86484334e-01  7.74659514e-01]\n",
            " [-9.95048039e-01  7.96605270e-01 -1.25917106e+00 -1.28782541e+00]\n",
            " [ 6.57743619e-01 -9.66963626e-01  8.74201564e-01  9.03564822e-01]\n",
            " [ 1.60219600e+00  2.92728442e-01  1.26719126e+00  7.74659514e-01]\n",
            " [ 1.85517431e-01  7.96605270e-01  4.25070485e-01  5.16848900e-01]\n",
            " [ 1.01191326e+00  4.07900289e-02  3.68929100e-01  2.59038285e-01]\n",
            " [-8.76991492e-01  1.55242051e+00 -1.25917106e+00 -1.03001479e+00]\n",
            " [-1.23116113e+00  7.96605270e-01 -1.20302968e+00 -1.28782541e+00]\n",
            " [-2.86708757e-01 -1.47084045e+00  8.82221762e-02 -1.27677638e-01]\n",
            " [-1.34921768e+00  2.92728442e-01 -1.20302968e+00 -1.28782541e+00]\n",
            " [-1.68652210e-01 -7.15025212e-01  2.00504946e-01  1.30132977e-01]\n",
            " [-1.11310459e+00  4.07900289e-02 -1.25917106e+00 -1.41673071e+00]\n",
            " [-8.76991492e-01 -1.47084045e+00 -4.17050287e-01 -1.27677638e-01]\n",
            " [ 1.48413945e+00 -2.11148385e-01  1.21104987e+00  1.16137544e+00]\n",
            " [-5.22821851e-01  2.05629734e+00 -1.14688829e+00 -1.03001479e+00]\n",
            " [ 3.03573978e-01 -1.21890204e+00  1.04262572e+00  2.59038285e-01]\n",
            " [ 2.19247873e+00 -1.21890204e+00  1.77246372e+00  1.41918605e+00]\n",
            " [ 3.03573978e-01 -4.63086798e-01  5.37353255e-01  2.59038285e-01]\n",
            " [-7.58934945e-01  7.96605270e-01 -1.31531244e+00 -1.28782541e+00]\n",
            " [-5.05956630e-02 -9.66963626e-01  8.82221762e-02  1.22766960e-03]\n",
            " [-5.05956630e-02 -9.66963626e-01  7.61918794e-01  9.03564822e-01]\n",
            " [ 2.19247873e+00  1.80435892e+00  1.66018095e+00  1.29028074e+00]\n",
            " [ 1.85517431e-01 -2.22665569e+00  1.44363561e-01 -2.56582945e-01]\n",
            " [-1.70338732e+00 -4.63086798e-01 -1.31531244e+00 -1.28782541e+00]\n",
            " [-9.95048039e-01  5.44666856e-01 -1.31531244e+00 -1.28782541e+00]\n",
            " [ 1.24802635e+00  4.07900289e-02  7.61918794e-01  1.41918605e+00]\n",
            " [ 6.57743619e-01 -7.15025212e-01  1.04262572e+00  1.16137544e+00]\n",
            " [-8.76991492e-01  5.44666856e-01 -1.14688829e+00 -9.01109483e-01]\n",
            " [ 1.85517431e-01 -9.66963626e-01  7.61918794e-01  5.16848900e-01]\n",
            " [ 6.57743619e-01 -4.63086798e-01  3.12787716e-01  1.30132977e-01]\n",
            " [ 8.93856713e-01 -4.63086798e-01  4.81211870e-01  1.30132977e-01]\n",
            " [ 1.60219600e+00  1.30048210e+00  1.32333264e+00  1.67699667e+00]\n",
            " [-5.05956630e-02 -1.21890204e+00  1.44363561e-01  1.22766960e-03]\n",
            " [-4.04765304e-01  1.04854368e+00 -1.37145383e+00 -1.28782541e+00]\n",
            " [-5.22821851e-01 -2.11148385e-01  4.25070485e-01  3.87943592e-01]\n",
            " [-5.05956630e-02 -9.66963626e-01  2.00504946e-01 -2.56582945e-01]\n",
            " [-1.23116113e+00 -2.11148385e-01 -1.31531244e+00 -1.41673071e+00]\n",
            " [-1.46727423e+00  4.07900289e-02 -1.25917106e+00 -1.28782541e+00]\n",
            " [-1.46727423e+00  2.92728442e-01 -1.31531244e+00 -1.28782541e+00]\n",
            " [ 1.36608290e+00  2.92728442e-01  5.37353255e-01  2.59038285e-01]\n",
            " [-1.82144387e+00 -2.11148385e-01 -1.48373660e+00 -1.41673071e+00]\n",
            " [-1.70338732e+00  2.92728442e-01 -1.37145383e+00 -1.28782541e+00]\n",
            " [-9.95048039e-01  1.04854368e+00 -1.20302968e+00 -7.72204175e-01]\n",
            " [-1.23116113e+00 -2.11148385e-01 -1.31531244e+00 -1.15892010e+00]\n",
            " [-8.76991492e-01  1.80435892e+00 -1.25917106e+00 -1.15892010e+00]\n",
            " [-7.58934945e-01  2.56017417e+00 -1.25917106e+00 -1.41673071e+00]\n",
            " [ 5.39687072e-01 -1.97471728e+00  3.68929100e-01  1.30132977e-01]\n",
            " [ 1.85517431e-01 -4.63086798e-01  4.25070485e-01  3.87943592e-01]\n",
            " [-7.58934945e-01 -9.66963626e-01  8.82221762e-02  2.59038285e-01]\n",
            " [-1.70338732e+00 -2.11148385e-01 -1.37145383e+00 -1.28782541e+00]\n",
            " [-1.23116113e+00  4.07900289e-02 -1.20302968e+00 -1.28782541e+00]\n",
            " [ 8.93856713e-01 -2.11148385e-01  3.68929100e-01  2.59038285e-01]\n",
            " [-1.46727423e+00  7.96605270e-01 -1.31531244e+00 -1.15892010e+00]\n",
            " [-8.76991492e-01  7.96605270e-01 -1.25917106e+00 -1.28782541e+00]\n",
            " [ 1.01191326e+00  5.44666856e-01  1.09876710e+00  1.16137544e+00]\n",
            " [ 2.07442218e+00 -2.11148385e-01  1.60403957e+00  1.16137544e+00]\n",
            " [-1.68652210e-01 -2.11148385e-01  2.56646331e-01  1.22766960e-03]\n",
            " [-4.04765304e-01 -1.21890204e+00  3.68929100e-01  1.22766960e-03]\n",
            " [ 1.01191326e+00 -2.11148385e-01  7.05777409e-01  6.45754207e-01]\n",
            " [ 5.39687072e-01  7.96605270e-01  1.04262572e+00  1.54809136e+00]\n",
            " [ 7.75800166e-01 -7.15025212e-01  4.81211870e-01  3.87943592e-01]\n",
            " [ 6.74608840e-02 -2.11148385e-01  2.56646331e-01  3.87943592e-01]\n",
            " [-4.04765304e-01  2.81211258e+00 -1.31531244e+00 -1.28782541e+00]\n",
            " [ 5.39687072e-01 -1.47084045e+00  7.05777409e-01  9.03564822e-01]\n",
            " [-2.86708757e-01 -7.15025212e-01  6.49636025e-01  1.03247013e+00]\n",
            " [-8.76991492e-01  1.04854368e+00 -1.31531244e+00 -1.15892010e+00]\n",
            " [ 4.21630525e-01  7.96605270e-01  9.30342949e-01  1.41918605e+00]\n",
            " [-8.76991492e-01  1.80435892e+00 -1.20302968e+00 -1.28782541e+00]\n",
            " [ 3.03573978e-01 -7.15025212e-01  5.37353255e-01  1.22766960e-03]\n",
            " [ 1.01191326e+00  4.07900289e-02  5.37353255e-01  3.87943592e-01]\n",
            " [-9.95048039e-01  1.04854368e+00 -1.37145383e+00 -1.15892010e+00]\n",
            " [ 7.75800166e-01 -2.11148385e-01  1.15490849e+00  1.29028074e+00]\n",
            " [-1.68652210e-01 -1.47084045e+00  7.05777409e-01  1.03247013e+00]\n",
            " [-7.58934945e-01  1.04854368e+00 -1.25917106e+00 -1.28782541e+00]\n",
            " [ 1.12996981e+00  2.92728442e-01  1.21104987e+00  1.41918605e+00]]\n"
          ]
        }
      ]
    },
    {
      "cell_type": "markdown",
      "source": [
        "#**MODEL IMPLEMENTATION (CLASSIFICATION )**"
      ],
      "metadata": {
        "id": "m1hPu6oh6i3n"
      }
    },
    {
      "cell_type": "markdown",
      "source": [
        "**MODEL TRAINING**"
      ],
      "metadata": {
        "id": "M22raXZt7Vk4"
      }
    },
    {
      "cell_type": "code",
      "source": [
        "import matplotlib.pyplot as plt\n",
        "from sklearn.cluster import KMeans\n",
        "\n",
        "sse = []\n",
        "k_rng=range(1,50)  # 1,2 ,3,4,5,6,7,8,9\n",
        "for k in k_rng:\n",
        "  km = KMeans(n_clusters=k,init='k-means++')\n",
        "  km.fit(x_train)\n",
        "  sse.append(km.inertia_)\n",
        "print(sse)\n",
        "\n",
        "plt.xlabel(\"K\")\n",
        "plt.ylabel(\"Sum of Squared Error\")\n",
        "plt.plot(k_rng,sse)"
      ],
      "metadata": {
        "id": "6IxKFi9a9giN",
        "colab": {
          "base_uri": "https://localhost:8080/",
          "height": 334
        },
        "outputId": "633a374d-7557-430d-a98b-ed825e336bc3"
      },
      "execution_count": null,
      "outputs": [
        {
          "output_type": "stream",
          "name": "stdout",
          "text": [
            "[488.2066666666666, 97.72607227022783, 51.7174470899471, 37.452406905744766, 30.785347222222228, 25.983439696053868, 21.59880370704287, 19.27983942132859, 17.559518063635707]\n"
          ]
        },
        {
          "output_type": "execute_result",
          "data": {
            "text/plain": [
              "[<matplotlib.lines.Line2D at 0x7fa2ee6f3c50>]"
            ]
          },
          "metadata": {},
          "execution_count": 13
        },
        {
          "output_type": "display_data",
          "data": {
            "text/plain": [
              "<Figure size 432x288 with 1 Axes>"
            ],
            "image/png": "[encoded data removed]"
          },
          "metadata": {
            "needs_background": "light"
          }
        }
      ]
    },
    {
      "cell_type": "code",
      "source": [
        "from sklearn.cluster import KMeans\n",
        "## Clustering with KMeans\n",
        "kmeans = KMeans(n_clusters=5)\n",
        "model=kmeans.fit(x_train)\n"
      ],
      "metadata": {
        "id": "NnJ_Zt3N6np0"
      },
      "execution_count": null,
      "outputs": []
    },
    {
      "cell_type": "markdown",
      "source": [
        "**MODEL TESTING**"
      ],
      "metadata": {
        "id": "Czi2YF6_7kVh"
      }
    },
    {
      "cell_type": "code",
      "source": [
        "\n",
        "pdc = kmeans.predict(x_test)\n",
        "print(\"================Kmeans Labels ====================\")\n",
        "print(labels)\n",
        "print(\"================Kmeans Predict ====================\")\n",
        "print(pdc)\n"
      ],
      "metadata": {
        "colab": {
          "base_uri": "https://localhost:8080/"
        },
        "id": "YWO40hJU7nCS",
        "outputId": "a46d20ba-e6c5-40b3-b491-3467608f302a"
      },
      "execution_count": null,
      "outputs": [
        {
          "output_type": "stream",
          "name": "stdout",
          "text": [
            "================Kmeans Labels ====================\n",
            "[1 0 2 0 0 0 1 0 2 0 1 0 1 2 2 0 1 2 0 0 2 1 2 2 0 2 0 0 2 1 2 1 2 2 0 0 1\n",
            " 1 0 1 0 1 0 2 1 2 2 0 1 0 0 2 0 1 1 2 2 1 0 0 0 2 0 1 0 0 1 1 1 0 1 1 1 1\n",
            " 1 1 0 0 0 1 1 0 1 1 2 2 0 0 2 2 0 0 1 0 0 1 2 1 0 0 1 2 0 1 2]\n",
            "================Kmeans Predict ====================\n",
            "[2 0 0 1 2 2 1 0 2 2 1 0 0 0 0 2 1 0 1 0 2 0 0 2 0 0 0 0 0 1 1 1 1 0 1 1 1\n",
            " 1 1 2 2 0 0 0 2]\n"
          ]
        }
      ]
    }
  ]
}